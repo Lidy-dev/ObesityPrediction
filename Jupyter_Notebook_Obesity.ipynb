{
 "cells": [
  {
   "cell_type": "code",
   "execution_count": 1,
   "id": "df449cae",
   "metadata": {},
   "outputs": [],
   "source": [
    "import pandas as pd\n",
    "import numpy as np\n",
    "import seaborn as sns\n",
    "import plotly.express as px\n",
    "import matplotlib.pyplot as plt\n",
    "from sklearn.metrics import mean_absolute_error\n",
    "from sklearn.linear_model import LinearRegression\n",
    "import plotly.graph_objects as go\n",
    "from category_encoders import OneHotEncoder\n",
    "from sklearn.pipeline import make_pipeline\n",
    "from ipywidgets import Dropdown, FloatSlider, IntSlider, interact\n"
   ]
  },
  {
   "cell_type": "code",
   "execution_count": 2,
   "id": "b8c2dcf7",
   "metadata": {},
   "outputs": [],
   "source": [
    "df = pd.read_csv(\"Obesity_trainSet.csv\")"
   ]
  },
  {
   "cell_type": "code",
   "execution_count": 3,
   "id": "677e29a3",
   "metadata": {},
   "outputs": [
    {
     "name": "stdout",
     "output_type": "stream",
     "text": [
      "<class 'pandas.core.frame.DataFrame'>\n",
      "RangeIndex: 20758 entries, 0 to 20757\n",
      "Data columns (total 18 columns):\n",
      " #   Column                          Non-Null Count  Dtype  \n",
      "---  ------                          --------------  -----  \n",
      " 0   id                              20758 non-null  int64  \n",
      " 1   Gender                          20758 non-null  object \n",
      " 2   Age                             20758 non-null  float64\n",
      " 3   Height                          20758 non-null  float64\n",
      " 4   Weight                          20758 non-null  float64\n",
      " 5   family_history_with_overweight  20758 non-null  object \n",
      " 6   FAVC                            20758 non-null  object \n",
      " 7   FCVC                            20758 non-null  float64\n",
      " 8   NCP                             20758 non-null  float64\n",
      " 9   CAEC                            20758 non-null  object \n",
      " 10  SMOKE                           20758 non-null  object \n",
      " 11  CH2O                            20758 non-null  float64\n",
      " 12  SCC                             20758 non-null  object \n",
      " 13  FAF                             20758 non-null  float64\n",
      " 14  TUE                             20758 non-null  float64\n",
      " 15  CALC                            20758 non-null  object \n",
      " 16  MTRANS                          20758 non-null  object \n",
      " 17  NObeyesdad                      20758 non-null  object \n",
      "dtypes: float64(8), int64(1), object(9)\n",
      "memory usage: 2.9+ MB\n"
     ]
    }
   ],
   "source": [
    "df.info()"
   ]
  },
  {
   "cell_type": "code",
   "execution_count": 4,
   "id": "2adea4df",
   "metadata": {},
   "outputs": [
    {
     "data": {
      "text/html": [
       "<div>\n",
       "<style scoped>\n",
       "    .dataframe tbody tr th:only-of-type {\n",
       "        vertical-align: middle;\n",
       "    }\n",
       "\n",
       "    .dataframe tbody tr th {\n",
       "        vertical-align: top;\n",
       "    }\n",
       "\n",
       "    .dataframe thead th {\n",
       "        text-align: right;\n",
       "    }\n",
       "</style>\n",
       "<table border=\"1\" class=\"dataframe\">\n",
       "  <thead>\n",
       "    <tr style=\"text-align: right;\">\n",
       "      <th></th>\n",
       "      <th>id</th>\n",
       "      <th>Age</th>\n",
       "      <th>Height</th>\n",
       "      <th>Weight</th>\n",
       "      <th>FCVC</th>\n",
       "      <th>NCP</th>\n",
       "      <th>CH2O</th>\n",
       "      <th>FAF</th>\n",
       "      <th>TUE</th>\n",
       "    </tr>\n",
       "  </thead>\n",
       "  <tbody>\n",
       "    <tr>\n",
       "      <th>id</th>\n",
       "      <td>1.000000</td>\n",
       "      <td>0.007634</td>\n",
       "      <td>0.012041</td>\n",
       "      <td>0.014020</td>\n",
       "      <td>0.002098</td>\n",
       "      <td>-0.000332</td>\n",
       "      <td>0.007917</td>\n",
       "      <td>0.016719</td>\n",
       "      <td>0.007667</td>\n",
       "    </tr>\n",
       "    <tr>\n",
       "      <th>Age</th>\n",
       "      <td>0.007634</td>\n",
       "      <td>1.000000</td>\n",
       "      <td>-0.011713</td>\n",
       "      <td>0.283381</td>\n",
       "      <td>0.034414</td>\n",
       "      <td>-0.048479</td>\n",
       "      <td>-0.016325</td>\n",
       "      <td>-0.192259</td>\n",
       "      <td>-0.296154</td>\n",
       "    </tr>\n",
       "    <tr>\n",
       "      <th>Height</th>\n",
       "      <td>0.012041</td>\n",
       "      <td>-0.011713</td>\n",
       "      <td>1.000000</td>\n",
       "      <td>0.416677</td>\n",
       "      <td>-0.071546</td>\n",
       "      <td>0.191383</td>\n",
       "      <td>0.183706</td>\n",
       "      <td>0.295278</td>\n",
       "      <td>0.076433</td>\n",
       "    </tr>\n",
       "    <tr>\n",
       "      <th>Weight</th>\n",
       "      <td>0.014020</td>\n",
       "      <td>0.283381</td>\n",
       "      <td>0.416677</td>\n",
       "      <td>1.000000</td>\n",
       "      <td>0.245682</td>\n",
       "      <td>0.095947</td>\n",
       "      <td>0.317914</td>\n",
       "      <td>-0.084845</td>\n",
       "      <td>-0.086471</td>\n",
       "    </tr>\n",
       "    <tr>\n",
       "      <th>FCVC</th>\n",
       "      <td>0.002098</td>\n",
       "      <td>0.034414</td>\n",
       "      <td>-0.071546</td>\n",
       "      <td>0.245682</td>\n",
       "      <td>1.000000</td>\n",
       "      <td>0.113349</td>\n",
       "      <td>0.101299</td>\n",
       "      <td>-0.089822</td>\n",
       "      <td>-0.147843</td>\n",
       "    </tr>\n",
       "    <tr>\n",
       "      <th>NCP</th>\n",
       "      <td>-0.000332</td>\n",
       "      <td>-0.048479</td>\n",
       "      <td>0.191383</td>\n",
       "      <td>0.095947</td>\n",
       "      <td>0.113349</td>\n",
       "      <td>1.000000</td>\n",
       "      <td>0.080949</td>\n",
       "      <td>0.100871</td>\n",
       "      <td>0.067459</td>\n",
       "    </tr>\n",
       "    <tr>\n",
       "      <th>CH2O</th>\n",
       "      <td>0.007917</td>\n",
       "      <td>-0.016325</td>\n",
       "      <td>0.183706</td>\n",
       "      <td>0.317914</td>\n",
       "      <td>0.101299</td>\n",
       "      <td>0.080949</td>\n",
       "      <td>1.000000</td>\n",
       "      <td>0.082932</td>\n",
       "      <td>-0.010654</td>\n",
       "    </tr>\n",
       "    <tr>\n",
       "      <th>FAF</th>\n",
       "      <td>0.016719</td>\n",
       "      <td>-0.192259</td>\n",
       "      <td>0.295278</td>\n",
       "      <td>-0.084845</td>\n",
       "      <td>-0.089822</td>\n",
       "      <td>0.100871</td>\n",
       "      <td>0.082932</td>\n",
       "      <td>1.000000</td>\n",
       "      <td>0.021213</td>\n",
       "    </tr>\n",
       "    <tr>\n",
       "      <th>TUE</th>\n",
       "      <td>0.007667</td>\n",
       "      <td>-0.296154</td>\n",
       "      <td>0.076433</td>\n",
       "      <td>-0.086471</td>\n",
       "      <td>-0.147843</td>\n",
       "      <td>0.067459</td>\n",
       "      <td>-0.010654</td>\n",
       "      <td>0.021213</td>\n",
       "      <td>1.000000</td>\n",
       "    </tr>\n",
       "  </tbody>\n",
       "</table>\n",
       "</div>"
      ],
      "text/plain": [
       "              id       Age    Height    Weight      FCVC       NCP      CH2O  \\\n",
       "id      1.000000  0.007634  0.012041  0.014020  0.002098 -0.000332  0.007917   \n",
       "Age     0.007634  1.000000 -0.011713  0.283381  0.034414 -0.048479 -0.016325   \n",
       "Height  0.012041 -0.011713  1.000000  0.416677 -0.071546  0.191383  0.183706   \n",
       "Weight  0.014020  0.283381  0.416677  1.000000  0.245682  0.095947  0.317914   \n",
       "FCVC    0.002098  0.034414 -0.071546  0.245682  1.000000  0.113349  0.101299   \n",
       "NCP    -0.000332 -0.048479  0.191383  0.095947  0.113349  1.000000  0.080949   \n",
       "CH2O    0.007917 -0.016325  0.183706  0.317914  0.101299  0.080949  1.000000   \n",
       "FAF     0.016719 -0.192259  0.295278 -0.084845 -0.089822  0.100871  0.082932   \n",
       "TUE     0.007667 -0.296154  0.076433 -0.086471 -0.147843  0.067459 -0.010654   \n",
       "\n",
       "             FAF       TUE  \n",
       "id      0.016719  0.007667  \n",
       "Age    -0.192259 -0.296154  \n",
       "Height  0.295278  0.076433  \n",
       "Weight -0.084845 -0.086471  \n",
       "FCVC   -0.089822 -0.147843  \n",
       "NCP     0.100871  0.067459  \n",
       "CH2O    0.082932 -0.010654  \n",
       "FAF     1.000000  0.021213  \n",
       "TUE     0.021213  1.000000  "
      ]
     },
     "execution_count": 4,
     "metadata": {},
     "output_type": "execute_result"
    }
   ],
   "source": [
    "# Check for Multicolinearity, dropping the Weight the dependent variable\n",
    "corr = df.select_dtypes(\"number\").corr()\n",
    "corr"
   ]
  },
  {
   "cell_type": "code",
   "execution_count": 5,
   "id": "5d8266ef",
   "metadata": {},
   "outputs": [
    {
     "data": {
      "text/plain": [
       "<Axes: >"
      ]
     },
     "execution_count": 5,
     "metadata": {},
     "output_type": "execute_result"
    },
    {
     "data": {
      "image/png": "[encoded data removed]",
      "text/plain": [
       "<Figure size 640x480 with 2 Axes>"
      ]
     },
     "metadata": {},
     "output_type": "display_data"
    }
   ],
   "source": [
    "sns.heatmap(corr)"
   ]
  },
  {
   "cell_type": "code",
   "execution_count": 6,
   "id": "74a7a92c",
   "metadata": {},
   "outputs": [
    {
     "data": {
      "image/png": "[encoded data removed]",
      "text/plain": [
       "<Figure size 640x480 with 1 Axes>"
      ]
     },
     "metadata": {},
     "output_type": "display_data"
    }
   ],
   "source": [
    "plt.scatter(x=df[\"Age\"], y=df[\"Weight\"])\n",
    "plt.xlabel(\"Age\")\n",
    "plt.ylabel(\"Weight\")\n",
    "plt.title(\"Weight vs Age\");"
   ]
  },
  {
   "cell_type": "markdown",
   "id": "1266bb6b",
   "metadata": {},
   "source": [
    "## SPLIT\n",
    "\n",
    "Let's separate our features (Consumption of water daily and Physical activity frequency) from our target (Weight)."
   ]
  },
  {
   "cell_type": "code",
   "execution_count": 7,
   "id": "08a41cfc",
   "metadata": {},
   "outputs": [],
   "source": [
    "features = [\"CH2O\",\"FAF\",\"CAEC\"]\n",
    "X_train = df[features]"
   ]
  },
  {
   "cell_type": "code",
   "execution_count": 8,
   "id": "3330186e",
   "metadata": {},
   "outputs": [],
   "source": [
    "target = \"Weight\"\n",
    "y_train = df[target]"
   ]
  },
  {
   "cell_type": "markdown",
   "id": "c52feb0e",
   "metadata": {},
   "source": [
    "## BASELINE MODEL\n",
    "In other to evaluate our model performance, we a baseline model. The baseline model gives the prediction as the mean of the target variable at every point of the prediction. This is a regression problem where we are predicting the weights of participants, so the first is to fet the mean of the trained (target) data"
   ]
  },
  {
   "cell_type": "code",
   "execution_count": 9,
   "id": "a11a3fda",
   "metadata": {},
   "outputs": [],
   "source": [
    "y_mn = y_train.mean()"
   ]
  },
  {
   "cell_type": "code",
   "execution_count": 10,
   "id": "817549f3",
   "metadata": {},
   "outputs": [
    {
     "data": {
      "text/plain": [
       "[87.88776840264958,\n",
       " 87.88776840264958,\n",
       " 87.88776840264958,\n",
       " 87.88776840264958,\n",
       " 87.88776840264958]"
      ]
     },
     "execution_count": 10,
     "metadata": {},
     "output_type": "execute_result"
    }
   ],
   "source": [
    "baseline_pred = [y_mn]*len(y_train)\n",
    "baseline_pred[:5]"
   ]
  },
  {
   "cell_type": "markdown",
   "id": "aa1f6409",
   "metadata": {},
   "source": [
    "## MEAN ABSOLUTE ERROR\n",
    "\n",
    "Calculate the baseline mean absolute error for the predictions of the model as compared to the true targets in the trained data."
   ]
  },
  {
   "cell_type": "code",
   "execution_count": 11,
   "id": "41479098",
   "metadata": {},
   "outputs": [
    {
     "name": "stdout",
     "output_type": "stream",
     "text": [
      "Mean apt price 87.89\n",
      "Baseline MAE: 22.74\n"
     ]
    }
   ],
   "source": [
    "mae_baseline = mean_absolute_error(y_train, baseline_pred)\n",
    "\n",
    "print(\"Mean apt price\", round(y_mn, 2))\n",
    "print(\"Baseline MAE:\", round(mae_baseline, 2))"
   ]
  },
  {
   "cell_type": "markdown",
   "id": "d888a2f3",
   "metadata": {},
   "source": [
    "This values means that if we are to predict for every weight will be 87.89, we will be off this prediction by 22.74"
   ]
  },
  {
   "cell_type": "markdown",
   "id": "a4a094b7",
   "metadata": {},
   "source": [
    "## PIPELINE\n",
    "We then create a pipeline to do the linear regression on the trasfromed dataset.\n"
   ]
  },
  {
   "cell_type": "code",
   "execution_count": 12,
   "id": "9779bb80",
   "metadata": {},
   "outputs": [
    {
     "data": {
      "text/html": [
       "<style>#sk-container-id-1 {color: black;}#sk-container-id-1 pre{padding: 0;}#sk-container-id-1 div.sk-toggleable {background-color: white;}#sk-container-id-1 label.sk-toggleable__label {cursor: pointer;display: block;width: 100%;margin-bottom: 0;padding: 0.3em;box-sizing: border-box;text-align: center;}#sk-container-id-1 label.sk-toggleable__label-arrow:before {content: \"▸\";float: left;margin-right: 0.25em;color: #696969;}#sk-container-id-1 label.sk-toggleable__label-arrow:hover:before {color: black;}#sk-container-id-1 div.sk-estimator:hover label.sk-toggleable__label-arrow:before {color: black;}#sk-container-id-1 div.sk-toggleable__content {max-height: 0;max-width: 0;overflow: hidden;text-align: left;background-color: #f0f8ff;}#sk-container-id-1 div.sk-toggleable__content pre {margin: 0.2em;color: black;border-radius: 0.25em;background-color: #f0f8ff;}#sk-container-id-1 input.sk-toggleable__control:checked~div.sk-toggleable__content {max-height: 200px;max-width: 100%;overflow: auto;}#sk-container-id-1 input.sk-toggleable__control:checked~label.sk-toggleable__label-arrow:before {content: \"▾\";}#sk-container-id-1 div.sk-estimator input.sk-toggleable__control:checked~label.sk-toggleable__label {background-color: #d4ebff;}#sk-container-id-1 div.sk-label input.sk-toggleable__control:checked~label.sk-toggleable__label {background-color: #d4ebff;}#sk-container-id-1 input.sk-hidden--visually {border: 0;clip: rect(1px 1px 1px 1px);clip: rect(1px, 1px, 1px, 1px);height: 1px;margin: -1px;overflow: hidden;padding: 0;position: absolute;width: 1px;}#sk-container-id-1 div.sk-estimator {font-family: monospace;background-color: #f0f8ff;border: 1px dotted black;border-radius: 0.25em;box-sizing: border-box;margin-bottom: 0.5em;}#sk-container-id-1 div.sk-estimator:hover {background-color: #d4ebff;}#sk-container-id-1 div.sk-parallel-item::after {content: \"\";width: 100%;border-bottom: 1px solid gray;flex-grow: 1;}#sk-container-id-1 div.sk-label:hover label.sk-toggleable__label {background-color: #d4ebff;}#sk-container-id-1 div.sk-serial::before {content: \"\";position: absolute;border-left: 1px solid gray;box-sizing: border-box;top: 0;bottom: 0;left: 50%;z-index: 0;}#sk-container-id-1 div.sk-serial {display: flex;flex-direction: column;align-items: center;background-color: white;padding-right: 0.2em;padding-left: 0.2em;position: relative;}#sk-container-id-1 div.sk-item {position: relative;z-index: 1;}#sk-container-id-1 div.sk-parallel {display: flex;align-items: stretch;justify-content: center;background-color: white;position: relative;}#sk-container-id-1 div.sk-item::before, #sk-container-id-1 div.sk-parallel-item::before {content: \"\";position: absolute;border-left: 1px solid gray;box-sizing: border-box;top: 0;bottom: 0;left: 50%;z-index: -1;}#sk-container-id-1 div.sk-parallel-item {display: flex;flex-direction: column;z-index: 1;position: relative;background-color: white;}#sk-container-id-1 div.sk-parallel-item:first-child::after {align-self: flex-end;width: 50%;}#sk-container-id-1 div.sk-parallel-item:last-child::after {align-self: flex-start;width: 50%;}#sk-container-id-1 div.sk-parallel-item:only-child::after {width: 0;}#sk-container-id-1 div.sk-dashed-wrapped {border: 1px dashed gray;margin: 0 0.4em 0.5em 0.4em;box-sizing: border-box;padding-bottom: 0.4em;background-color: white;}#sk-container-id-1 div.sk-label label {font-family: monospace;font-weight: bold;display: inline-block;line-height: 1.2em;}#sk-container-id-1 div.sk-label-container {text-align: center;}#sk-container-id-1 div.sk-container {/* jupyter's `normalize.less` sets `[hidden] { display: none; }` but bootstrap.min.css set `[hidden] { display: none !important; }` so we also need the `!important` here to be able to override the default hidden behavior on the sphinx rendered scikit-learn.org. See: https://github.com/scikit-learn/scikit-learn/issues/21755 */display: inline-block !important;position: relative;}#sk-container-id-1 div.sk-text-repr-fallback {display: none;}</style><div id=\"sk-container-id-1\" class=\"sk-top-container\"><div class=\"sk-text-repr-fallback\"><pre>Pipeline(steps=[(&#x27;onehotencoder&#x27;, OneHotEncoder(cols=[&#x27;CAEC&#x27;])),\n",
       "                (&#x27;linearregression&#x27;, LinearRegression())])</pre><b>In a Jupyter environment, please rerun this cell to show the HTML representation or trust the notebook. <br />On GitHub, the HTML representation is unable to render, please try loading this page with nbviewer.org.</b></div><div class=\"sk-container\" hidden><div class=\"sk-item sk-dashed-wrapped\"><div class=\"sk-label-container\"><div class=\"sk-label sk-toggleable\"><input class=\"sk-toggleable__control sk-hidden--visually\" id=\"sk-estimator-id-1\" type=\"checkbox\" ><label for=\"sk-estimator-id-1\" class=\"sk-toggleable__label sk-toggleable__label-arrow\">Pipeline</label><div class=\"sk-toggleable__content\"><pre>Pipeline(steps=[(&#x27;onehotencoder&#x27;, OneHotEncoder(cols=[&#x27;CAEC&#x27;])),\n",
       "                (&#x27;linearregression&#x27;, LinearRegression())])</pre></div></div></div><div class=\"sk-serial\"><div class=\"sk-item\"><div class=\"sk-estimator sk-toggleable\"><input class=\"sk-toggleable__control sk-hidden--visually\" id=\"sk-estimator-id-2\" type=\"checkbox\" ><label for=\"sk-estimator-id-2\" class=\"sk-toggleable__label sk-toggleable__label-arrow\">OneHotEncoder</label><div class=\"sk-toggleable__content\"><pre>OneHotEncoder(cols=[&#x27;CAEC&#x27;])</pre></div></div></div><div class=\"sk-item\"><div class=\"sk-estimator sk-toggleable\"><input class=\"sk-toggleable__control sk-hidden--visually\" id=\"sk-estimator-id-3\" type=\"checkbox\" ><label for=\"sk-estimator-id-3\" class=\"sk-toggleable__label sk-toggleable__label-arrow\">LinearRegression</label><div class=\"sk-toggleable__content\"><pre>LinearRegression()</pre></div></div></div></div></div></div></div>"
      ],
      "text/plain": [
       "Pipeline(steps=[('onehotencoder', OneHotEncoder(cols=['CAEC'])),\n",
       "                ('linearregression', LinearRegression())])"
      ]
     },
     "execution_count": 12,
     "metadata": {},
     "output_type": "execute_result"
    }
   ],
   "source": [
    "ohe = OneHotEncoder(use_cat_names=True)\n",
    "\n",
    "model = make_pipeline(\n",
    "    OneHotEncoder(),\n",
    "    LinearRegression()\n",
    ")\n",
    "model.fit(X_train, y_train)"
   ]
  },
  {
   "cell_type": "markdown",
   "id": "f08c373e",
   "metadata": {},
   "source": [
    "Extract the intercept and coefficients for your model"
   ]
  },
  {
   "cell_type": "code",
   "execution_count": 13,
   "id": "8bc589b3",
   "metadata": {},
   "outputs": [
    {
     "name": "stdout",
     "output_type": "stream",
     "text": [
      "Intercept: 1402464563612714.8\n",
      "Coefficients: [ 1.17039483e+01 -1.76987643e+00 -1.40246456e+15 -1.40246456e+15\n",
      " -1.40246456e+15 -1.40246456e+15]\n"
     ]
    }
   ],
   "source": [
    "# Assuming `model` is your Pipeline object\n",
    "last_estimator = model.steps[-1][1]  # Get the last estimator in the pipeline\n",
    "intercept = last_estimator.intercept_\n",
    "coefficients = last_estimator.coef_\n",
    "print(\"Intercept:\", intercept)\n",
    "print(\"Coefficients:\", coefficients)"
   ]
  },
  {
   "cell_type": "code",
   "execution_count": 14,
   "id": "3da02a39",
   "metadata": {},
   "outputs": [
    {
     "name": "stdout",
     "output_type": "stream",
     "text": [
      "price = 1402464563612714.8 + (11.70394834931177*CH2O) + (-1.7698764343628548*FAF)\n"
     ]
    }
   ],
   "source": [
    "print(\n",
    "    f\"price = {intercept} + ({coefficients[0]}*CH2O) + ({coefficients[1]}*FAF)\"\n",
    ")"
   ]
  },
  {
   "cell_type": "code",
   "execution_count": 15,
   "id": "e15692e6",
   "metadata": {},
   "outputs": [],
   "source": [
    "model_pred = model.predict(X_train)"
   ]
  },
  {
   "cell_type": "code",
   "execution_count": 16,
   "id": "08c485cf",
   "metadata": {},
   "outputs": [
    {
     "name": "stdout",
     "output_type": "stream",
     "text": [
      "Coefficients: [ 1.17039483e+01 -1.76987643e+00 -1.40246456e+15 -1.40246456e+15\n",
      " -1.40246456e+15 -1.40246456e+15]\n",
      "Feature Names: ['CH2O' 'FAF' 'CAEC_1' 'CAEC_2' 'CAEC_3' 'CAEC_4']\n"
     ]
    }
   ],
   "source": [
    "# Assuming `model` is your Pipeline object\n",
    "coefficients = model[-1].coef_\n",
    "print(\"Coefficients:\", coefficients)\n",
    "# Assuming `model` is your Pipeline object\n",
    "feature_names = model[0].get_feature_names_out()\n",
    "print(\"Feature Names:\", feature_names)\n"
   ]
  },
  {
   "cell_type": "code",
   "execution_count": 17,
   "id": "0418bd12",
   "metadata": {},
   "outputs": [
    {
     "name": "stdout",
     "output_type": "stream",
     "text": [
      "FAF       1.769876e+00\n",
      "CH2O      1.170395e+01\n",
      "CAEC_1    1.402465e+15\n",
      "CAEC_4    1.402465e+15\n",
      "CAEC_3    1.402465e+15\n",
      "CAEC_2    1.402465e+15\n",
      "Name: Coefficient, dtype: float64\n"
     ]
    }
   ],
   "source": [
    "# Extracting feature names from the one-hot encoder\n",
    "feature_names = model[0].get_feature_names_out()\n",
    "coefficients = model[-1].coef_ # Extracting coefficients from the last estimator\n",
    "feature_coefficients = pd.Series(coefficients, index=feature_names, name='Coefficient')\n",
    "sorted_feature_coefficients = feature_coefficients.abs().sort_values() # Sorting the Series by absolute coefficient values\n",
    "print(sorted_feature_coefficients)\n",
    "\n"
   ]
  },
  {
   "cell_type": "markdown",
   "id": "6910c061",
   "metadata": {},
   "source": [
    "As usal lets calculate the training mean absolute error for your predictions."
   ]
  },
  {
   "cell_type": "code",
   "execution_count": 18,
   "id": "7972ccb7",
   "metadata": {},
   "outputs": [
    {
     "name": "stdout",
     "output_type": "stream",
     "text": [
      "Training MAE: 18.91\n"
     ]
    }
   ],
   "source": [
    "mae_training = mean_absolute_error(y_train, model_pred)\n",
    "print(\"Training MAE:\", round(mae_training, 2))"
   ]
  },
  {
   "cell_type": "code",
   "execution_count": 19,
   "id": "ae435cb8",
   "metadata": {},
   "outputs": [
    {
     "data": {
      "text/html": [
       "<div>\n",
       "<style scoped>\n",
       "    .dataframe tbody tr th:only-of-type {\n",
       "        vertical-align: middle;\n",
       "    }\n",
       "\n",
       "    .dataframe tbody tr th {\n",
       "        vertical-align: top;\n",
       "    }\n",
       "\n",
       "    .dataframe thead th {\n",
       "        text-align: right;\n",
       "    }\n",
       "</style>\n",
       "<table border=\"1\" class=\"dataframe\">\n",
       "  <thead>\n",
       "    <tr style=\"text-align: right;\">\n",
       "      <th></th>\n",
       "      <th>CH2O</th>\n",
       "      <th>FAF</th>\n",
       "      <th>CAEC</th>\n",
       "    </tr>\n",
       "  </thead>\n",
       "  <tbody>\n",
       "    <tr>\n",
       "      <th>0</th>\n",
       "      <td>2.825629</td>\n",
       "      <td>0.855400</td>\n",
       "      <td>Sometimes</td>\n",
       "    </tr>\n",
       "    <tr>\n",
       "      <th>1</th>\n",
       "      <td>3.000000</td>\n",
       "      <td>1.000000</td>\n",
       "      <td>Sometimes</td>\n",
       "    </tr>\n",
       "    <tr>\n",
       "      <th>2</th>\n",
       "      <td>2.621877</td>\n",
       "      <td>0.000000</td>\n",
       "      <td>Sometimes</td>\n",
       "    </tr>\n",
       "    <tr>\n",
       "      <th>3</th>\n",
       "      <td>2.786417</td>\n",
       "      <td>0.094851</td>\n",
       "      <td>Sometimes</td>\n",
       "    </tr>\n",
       "    <tr>\n",
       "      <th>4</th>\n",
       "      <td>2.653531</td>\n",
       "      <td>0.000000</td>\n",
       "      <td>Sometimes</td>\n",
       "    </tr>\n",
       "  </tbody>\n",
       "</table>\n",
       "</div>"
      ],
      "text/plain": [
       "       CH2O       FAF       CAEC\n",
       "0  2.825629  0.855400  Sometimes\n",
       "1  3.000000  1.000000  Sometimes\n",
       "2  2.621877  0.000000  Sometimes\n",
       "3  2.786417  0.094851  Sometimes\n",
       "4  2.653531  0.000000  Sometimes"
      ]
     },
     "execution_count": 19,
     "metadata": {},
     "output_type": "execute_result"
    }
   ],
   "source": [
    "X_test = pd.read_csv(\"Obesity_testSet.csv\")\n",
    "X_test = X_test[[\"CH2O\",\"FAF\",\"CAEC\"]]\n",
    "X_test.head()"
   ]
  },
  {
   "cell_type": "markdown",
   "id": "9e2aa618",
   "metadata": {},
   "source": [
    "It looks like our model performs a little better than the baseline."
   ]
  },
  {
   "cell_type": "markdown",
   "id": "90f8e7bb",
   "metadata": {},
   "source": [
    "Let's assess our test performance now. It's important to note that once we've tested our model, we cannot iterate further."
   ]
  },
  {
   "cell_type": "code",
   "execution_count": 20,
   "id": "e5608884",
   "metadata": {},
   "outputs": [
    {
     "data": {
      "text/plain": [
       "0    102.00\n",
       "1    103.75\n",
       "2    101.25\n",
       "3    103.00\n",
       "4    101.50\n",
       "dtype: float64"
      ]
     },
     "execution_count": 20,
     "metadata": {},
     "output_type": "execute_result"
    }
   ],
   "source": [
    "# X_test = pd.read_csv(\"Obesity_testSet.csv\")\n",
    "y_pred_test = pd.Series(model.predict(X_test))\n",
    "y_pred_test.head()"
   ]
  },
  {
   "cell_type": "markdown",
   "id": "7a78d584",
   "metadata": {},
   "source": [
    "Model Prediction is below"
   ]
  },
  {
   "cell_type": "code",
   "execution_count": 21,
   "id": "663ccfef",
   "metadata": {},
   "outputs": [],
   "source": [
    "def make_prediction(CH2O, FAF, CAEC):\n",
    "    data = {\n",
    "        \"CH2O\": CH2O,\n",
    "        \"FAF\": FAF,\n",
    "        \"CAEC\": CAEC,\n",
    "    }\n",
    "    df = pd.DataFrame(data, index=[0])\n",
    "    prediction = model.predict(df).round(2)[0]\n",
    "    return f\"Weight of Participant: {prediction}\""
   ]
  },
  {
   "cell_type": "code",
   "execution_count": 22,
   "id": "d6a5e5e5",
   "metadata": {},
   "outputs": [
    {
     "data": {
      "text/plain": [
       "'Weight of Participant: 156.25'"
      ]
     },
     "execution_count": 22,
     "metadata": {},
     "output_type": "execute_result"
    }
   ],
   "source": [
    "make_prediction(2.10, -34.60, \"Sometimes\")"
   ]
  },
  {
   "cell_type": "markdown",
   "id": "763980e2",
   "metadata": {},
   "source": [
    "INTERACTIVE DASHBOARD DEPLOYMENT\n",
    "\n",
    "The model prediction was deployed by creating an interactive dashboard where a user can provide input and then receive a prediction."
   ]
  },
  {
   "cell_type": "code",
   "execution_count": 23,
   "id": "15bec0d3",
   "metadata": {},
   "outputs": [
    {
     "data": {
      "application/vnd.jupyter.widget-view+json": {
       "model_id": "b90dd34b2a444266b31b02886b6202ee",
       "version_major": 2,
       "version_minor": 0
      },
      "text/plain": [
       "interactive(children=(FloatSlider(value=2.029418243665093, description='CH2O', max=3.0, min=1.0, step=0.01), F…"
      ]
     },
     "metadata": {},
     "output_type": "display_data"
    }
   ],
   "source": [
    "interact(\n",
    "    make_prediction,\n",
    "    CH2O=FloatSlider(\n",
    "        min=X_train[\"CH2O\"].min(),\n",
    "        max=X_train[\"CH2O\"].max(),\n",
    "        step=0.01,\n",
    "        value=X_train[\"CH2O\"].mean(),\n",
    "    ),\n",
    "    FAF=FloatSlider(\n",
    "        min=X_train[\"FAF\"].min(),\n",
    "        max=X_train[\"FAF\"].max(),\n",
    "        step=0.01,\n",
    "        value=X_train[\"FAF\"].mean(),\n",
    "    ),\n",
    "    CAEC=Dropdown(options=sorted(X_train[\"CAEC\"].unique())),\n",
    ");"
   ]
  }
 ],
 "metadata": {
  "kernelspec": {
   "display_name": "Python 3 (ipykernel)",
   "language": "python",
   "name": "python3"
  },
  "language_info": {
   "codemirror_mode": {
    "name": "ipython",
    "version": 3
   },
   "file_extension": ".py",
   "mimetype": "text/x-python",
   "name": "python",
   "nbconvert_exporter": "python",
   "pygments_lexer": "ipython3",
   "version": "3.11.5"
  }
 },
 "nbformat": 4,
 "nbformat_minor": 5
}
